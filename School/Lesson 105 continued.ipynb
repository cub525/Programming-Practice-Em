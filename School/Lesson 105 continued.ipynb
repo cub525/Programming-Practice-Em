{
 "cells": [
  {
   "cell_type": "markdown",
   "metadata": {},
   "source": [
    "# Lesson 105 Evens\n",
    "## Emmett Hart"
   ]
  },
  {
   "cell_type": "code",
   "execution_count": 1,
   "metadata": {},
   "outputs": [],
   "source": [
    "import math"
   ]
  },
  {
   "cell_type": "markdown",
   "metadata": {},
   "source": [
    "## 2\n",
    "$\\frac{dB_{acteria}}{dt} = CB_{acteria} \\\\\n",
    "\\int \\frac{dB_{acteria}}{B_{acteria}} = \\int Cdt \\\\\n",
    "B_{acteria\\ t} = B_{acteria\\ i}e^{Ct} \\\\\n",
    "3 = e^{Ct} \\\\\n",
    "C = \\frac{ln(3)}{10}\\\\\n",
    "B_{acteria\\ t} = B_{acteria\\ i}e^{\\frac{ln(3)}{10}t}$"
   ]
  },
  {
   "cell_type": "markdown",
   "metadata": {},
   "source": [
    "## 4"
   ]
  },
  {
   "cell_type": "code",
   "execution_count": 3,
   "metadata": {},
   "outputs": [
    {
     "name": "stdout",
     "output_type": "stream",
     "text": [
      "1.0\n",
      "0.0\n",
      "-0.111\n",
      "-0.125\n"
     ]
    }
   ],
   "source": [
    "for i in range(1,5):\n",
    "    an = (2-i)/i**2\n",
    "    print(round(an,3))"
   ]
  },
  {
   "cell_type": "markdown",
   "metadata": {},
   "source": [
    "## 6\n",
    "$a_n = \\dfrac{i}{i+1}$"
   ]
  },
  {
   "cell_type": "markdown",
   "metadata": {},
   "source": [
    "## 8\n",
    "$\\frac{\\ln{\\infty}}{\\ln{\\infty}} = 1$  \n",
    "Converges to 1"
   ]
  },
  {
   "cell_type": "markdown",
   "metadata": {},
   "source": [
    "## 10\n",
    "Converges to $e$"
   ]
  },
  {
   "cell_type": "markdown",
   "metadata": {},
   "source": [
    "## 12\n",
    "$\\lim \\limits _{x\\rightarrow0} \\frac{1-\\cos(x)}{x} = \\frac{0}{0}$  \n",
    "Apply L'Hopital's Rule:  \n",
    "$\\lim \\limits _{x\\rightarrow0} \\sin(x) = 0$"
   ]
  },
  {
   "cell_type": "markdown",
   "metadata": {},
   "source": [
    "## 14\n",
    "$\\lim \\limits _{x\\rightarrow0} \\frac{1-\\cos(x)}{\\sin(x)} = \\frac{0}{0}$  \n",
    "Apply L'Hopital's Rule  \n",
    "$\\lim \\limits _{x\\rightarrow0} \\frac{sin(x)}{cos(x)} = \\lim \\limits _{x\\rightarrow0} \\tan(x) = 1$"
   ]
  },
  {
   "cell_type": "markdown",
   "metadata": {},
   "source": [
    "## 16\n",
    "$x^3 - 4x^2 + 3x -7$"
   ]
  },
  {
   "cell_type": "markdown",
   "metadata": {},
   "source": [
    "## 18"
   ]
  },
  {
   "cell_type": "code",
   "execution_count": 13,
   "metadata": {},
   "outputs": [
    {
     "name": "stdout",
     "output_type": "stream",
     "text": [
      "The intercept is -1.086130198\n"
     ]
    }
   ],
   "source": [
    "v = -1\n",
    "fx = lambda x: x**3 - 4*x**2 + 6\n",
    "fpx = lambda x: 3*x**2 - 8*x\n",
    "for _ in range(10):\n",
    "    v = v - fx(v)/fpx(v)\n",
    "print('The intercept is',round(v,9))"
   ]
  },
  {
   "cell_type": "markdown",
   "metadata": {},
   "source": [
    "## 20\n",
    "$y = \\dfrac{2\\sqrt{x^3-1}}{\\sin(x) + \\cos(2x)} + e^{\\sin(x)}$"
   ]
  },
  {
   "cell_type": "markdown",
   "metadata": {},
   "source": [
    "$\\frac{dy}{dx} = \\frac{3 x^{2}}{\\sqrt{x^{3} - 1} \\left(\\sin{\\left(x \\right)} + \\cos{\\left(2 x \\right)}\\right)} + \\frac{2 \\sqrt{x^{3} - 1} \\left(2 \\sin{\\left(2 x \\right)} - \\cos{\\left(x \\right)}\\right)}{\\left(\\sin{\\left(x \\right)} + \\cos{\\left(2 x \\right)}\\right)^{2}} + e^{\\sin{\\left(x \\right)}} \\cos{\\left(x \\right)}​$"
   ]
  },
  {
   "cell_type": "markdown",
   "metadata": {},
   "source": [
    "## 24"
   ]
  },
  {
   "cell_type": "code",
   "execution_count": 11,
   "metadata": {},
   "outputs": [
    {
     "data": {
      "text/plain": [
       "-0.866"
      ]
     },
     "execution_count": 11,
     "metadata": {},
     "output_type": "execute_result"
    }
   ],
   "source": [
    "round(math.cos(5*math.pi/6),3)"
   ]
  },
  {
   "cell_type": "code",
   "execution_count": null,
   "metadata": {},
   "outputs": [],
   "source": []
  }
 ],
 "metadata": {
  "kernelspec": {
   "display_name": "Python 3",
   "language": "python",
   "name": "python3"
  },
  "language_info": {
   "codemirror_mode": {
    "name": "ipython",
    "version": 3
   },
   "file_extension": ".py",
   "mimetype": "text/x-python",
   "name": "python",
   "nbconvert_exporter": "python",
   "pygments_lexer": "ipython3",
   "version": "3.8.5"
  }
 },
 "nbformat": 4,
 "nbformat_minor": 4
}
