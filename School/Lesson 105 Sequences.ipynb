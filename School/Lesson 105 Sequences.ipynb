{
 "cells": [
  {
   "cell_type": "code",
   "execution_count": 1,
   "metadata": {},
   "outputs": [],
   "source": [
    "import math"
   ]
  },
  {
   "cell_type": "markdown",
   "metadata": {},
   "source": [
    "## 1.\n",
    "$\\frac{\\sqrt{3}}{2}\\int \\limits _0 ^4 (2\\sqrt{y})^2dy = \\frac{\\sqrt{3}}{2}\\int \\limits _0 ^4 4y dy = \\sqrt{3}y^2|_0^4$"
   ]
  },
  {
   "cell_type": "code",
   "execution_count": 2,
   "metadata": {},
   "outputs": [
    {
     "data": {
      "text/plain": [
       "27.712812921102035"
      ]
     },
     "execution_count": 2,
     "metadata": {},
     "output_type": "execute_result"
    }
   ],
   "source": [
    "16*math.sqrt(3)"
   ]
  },
  {
   "cell_type": "markdown",
   "metadata": {},
   "source": [
    "## 3."
   ]
  },
  {
   "cell_type": "code",
   "execution_count": 3,
   "metadata": {},
   "outputs": [
    {
     "name": "stdout",
     "output_type": "stream",
     "text": [
      "2.0\n",
      "2.5\n",
      "3.333\n",
      "4.25\n"
     ]
    }
   ],
   "source": [
    "for i in range(1,5):\n",
    "    an = i+1/i\n",
    "    print(round(an,3))"
   ]
  },
  {
   "cell_type": "markdown",
   "metadata": {},
   "source": [
    "## 5."
   ]
  },
  {
   "cell_type": "code",
   "execution_count": 4,
   "metadata": {},
   "outputs": [
    {
     "name": "stdout",
     "output_type": "stream",
     "text": [
      "0.0\n",
      "0.347\n",
      "0.366\n",
      "0.347\n"
     ]
    }
   ],
   "source": [
    "for i in range(1,5):\n",
    "    an = math.log(i)/i\n",
    "    print(round(an,3))"
   ]
  },
  {
   "cell_type": "markdown",
   "metadata": {},
   "source": [
    "## 7.\n",
    "$$a_n = \\left(-\\frac{1}{3}\\right)^{i-1}$$"
   ]
  },
  {
   "cell_type": "markdown",
   "metadata": {},
   "source": [
    "## 9.\n",
    "The sequence $a_n = \\frac{e^n}{n^3}$ diverges to infinity"
   ]
  },
  {
   "cell_type": "markdown",
   "metadata": {},
   "source": [
    "## 11.\n",
    "Using small angle aproximation we say that sin(x) = x, thus the limit goes to $\\frac{7}{13}$\n",
    "## 13\n",
    "$\\lim \\limits _{x\\rightarrow0^+}\\frac{2*x^2+x}{ln(x)^2} = 0$\n",
    "## 15\n",
    "$9^2 + 3 + 2*9*.3 + \\frac{.3}{3} = 89.5$\n",
    "## 21\n",
    "$\\ln(x^xx^xx^xx^x) = \\ln(x^{4x}) = 4\\ln(x^x) \\\\ \\int 4x\\ln(x)dx$\n",
    "Integration by parts <br>\n",
    "\n",
    "| $u = \\ln(x)$ | $v = 2x^2$ |\n",
    "|-----------|----------|\n",
    "| $du = 1/x dx$  | $dv = 4x dx$ |\n",
    "\n",
    "$uv - \\int vdu \\\\= 2x^2\\ln(x) - \\int 2x^2 \\frac{1}{x} dx \\\\= 2x^2\\ln(x) - \\int 2x dx \\\\= 2x^2\\ln(x) - x^2$\n"
   ]
  },
  {
   "cell_type": "code",
   "execution_count": null,
   "metadata": {},
   "outputs": [],
   "source": []
  }
 ],
 "metadata": {
  "kernelspec": {
   "display_name": "Python 3",
   "language": "python",
   "name": "python3"
  },
  "language_info": {
   "codemirror_mode": {
    "name": "ipython",
    "version": 3
   },
   "file_extension": ".py",
   "mimetype": "text/x-python",
   "name": "python",
   "nbconvert_exporter": "python",
   "pygments_lexer": "ipython3",
   "version": "3.8.5"
  }
 },
 "nbformat": 4,
 "nbformat_minor": 4
}
