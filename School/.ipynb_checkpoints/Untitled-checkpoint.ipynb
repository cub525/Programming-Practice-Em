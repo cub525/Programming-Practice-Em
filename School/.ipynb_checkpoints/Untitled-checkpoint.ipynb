{
 "cells": [
  {
   "cell_type": "markdown",
   "metadata": {},
   "source": [
    "$-2x +4 = \\frac{A}{x-1} + \\frac{B}{(x-1)^2} + \\frac{Cx + D}{(x^2+1)}$"
   ]
  },
  {
   "cell_type": "markdown",
   "metadata": {},
   "source": [
    "$-2x + 4 = A(x^2+1)(x-1)^2 + B(x-1)(x^2+1)+ (Cx +D)(x-1)(x-1)^2$"
   ]
  },
  {
   "cell_type": "markdown",
   "metadata": {},
   "source": [
    "for $x = 1$:\n",
    "$-2x + 4 = A(x^2 + 1)(x^2 -2x +1) + B(x^3-x^2+x-1) + (Cx +D)(x-1)^3$"
   ]
  },
  {
   "cell_type": "markdown",
   "metadata": {},
   "source": [
    "$-2x + 4 = A(x^4 - 2x^3 + 1 + x^2 -2x + 1) + Bx^3 "
   ]
  }
 ],
 "metadata": {
  "kernelspec": {
   "display_name": "Python 3",
   "language": "python",
   "name": "python3"
  },
  "language_info": {
   "codemirror_mode": {
    "name": "ipython",
    "version": 3
   },
   "file_extension": ".py",
   "mimetype": "text/x-python",
   "name": "python",
   "nbconvert_exporter": "python",
   "pygments_lexer": "ipython3",
   "version": "3.8.5"
  }
 },
 "nbformat": 4,
 "nbformat_minor": 4
}
