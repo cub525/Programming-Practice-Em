{
 "cells": [
  {
   "cell_type": "code",
   "execution_count": 2,
   "metadata": {},
   "outputs": [
    {
     "name": "stdout",
     "output_type": "stream",
     "text": [
      "IPython console for SymPy 1.6.2 (Python 3.8.5-64-bit) (ground types: gmpy)\n",
      "\n",
      "These commands were executed:\n",
      ">>> from __future__ import division\n",
      ">>> from sympy import *\n",
      ">>> x, y, z, t = symbols('x y z t')\n",
      ">>> k, m, n = symbols('k m n', integer=True)\n",
      ">>> f, g, h = symbols('f g h', cls=Function)\n",
      ">>> init_printing()\n",
      "\n",
      "Documentation can be found at https://docs.sympy.org/1.6.2/\n",
      "\n"
     ]
    }
   ],
   "source": [
    "import sympy as sp\n",
    "sp.init_session(use_latex = True)"
   ]
  },
  {
   "cell_type": "code",
   "execution_count": 2,
   "metadata": {},
   "outputs": [
    {
     "data": {
      "image/png": "[encoded data removed]",
      "text/latex": [
       "$\\displaystyle \\frac{x \\sqrt{25 - x^{2}}}{2} + \\frac{25 \\operatorname{asin}{\\left(\\frac{x}{5} \\right)}}{2}$"
      ],
      "text/plain": [
       "     _________          ⎛x⎞\n",
       "    ╱       2    25⋅asin⎜─⎟\n",
       "x⋅╲╱  25 - x            ⎝5⎠\n",
       "────────────── + ──────────\n",
       "      2              2     "
      ]
     },
     "execution_count": 2,
     "metadata": {},
     "output_type": "execute_result"
    }
   ],
   "source": [
    "integrate(sqrt(25-x**2))"
   ]
  },
  {
   "cell_type": "code",
   "execution_count": 5,
   "metadata": {
    "scrolled": true
   },
   "outputs": [
    {
     "data": {
      "image/png": "[encoded data removed]",
      "text/latex": [
       "$\\displaystyle \\frac{\\operatorname{acosh}{\\left(\\frac{2 x}{7} \\right)}}{2}$"
      ],
      "text/plain": [
       "     ⎛2⋅x⎞\n",
       "acosh⎜───⎟\n",
       "     ⎝ 7 ⎠\n",
       "──────────\n",
       "    2     "
      ]
     },
     "execution_count": 5,
     "metadata": {},
     "output_type": "execute_result"
    }
   ],
   "source": [
    "integrate(1/sqrt((2*x)**2-49))"
   ]
  },
  {
   "cell_type": "code",
   "execution_count": 8,
   "metadata": {},
   "outputs": [
    {
     "data": {
      "image/png": "[encoded data removed]",
      "text/latex": [
       "$\\displaystyle \\begin{cases} - \\frac{i y}{\\sqrt{-1 + \\frac{49}{y^{2}}}} - 7 i \\operatorname{acosh}{\\left(\\frac{7}{y} \\right)} + \\frac{49 i}{y \\sqrt{-1 + \\frac{49}{y^{2}}}} & \\text{for}\\: \\frac{49}{\\left|{y^{2}}\\right|} > 1 \\\\\\frac{y}{\\sqrt{1 - \\frac{49}{y^{2}}}} + 7 \\operatorname{asin}{\\left(\\frac{7}{y} \\right)} - \\frac{49}{y \\sqrt{1 - \\frac{49}{y^{2}}}} & \\text{otherwise} \\end{cases}$"
      ],
      "text/plain": [
       "⎧       ⅈ⋅y                  ⎛7⎞         49⋅ⅈ             49     \n",
       "⎪- ────────────── - 7⋅ⅈ⋅acosh⎜─⎟ + ────────────────  for ──── > 1\n",
       "⎪       _________            ⎝y⎠          _________      │ 2│    \n",
       "⎪      ╱      49                         ╱      49       │y │    \n",
       "⎪     ╱  -1 + ──                   y⋅   ╱  -1 + ──               \n",
       "⎪    ╱         2                       ╱         2               \n",
       "⎪  ╲╱         y                      ╲╱         y                \n",
       "⎨                                                                \n",
       "⎪         y               ⎛7⎞          49                        \n",
       "⎪   ───────────── + 7⋅asin⎜─⎟ - ───────────────       otherwise  \n",
       "⎪        ________         ⎝y⎠          ________                  \n",
       "⎪       ╱     49                      ╱     49                   \n",
       "⎪      ╱  1 - ──                y⋅   ╱  1 - ──                   \n",
       "⎪     ╱        2                    ╱        2                   \n",
       "⎩   ╲╱        y                   ╲╱        y                    "
      ]
     },
     "execution_count": 8,
     "metadata": {},
     "output_type": "execute_result"
    }
   ],
   "source": [
    "integrate(sqrt(y**2-49)/y)"
   ]
  },
  {
   "cell_type": "code",
   "execution_count": 17,
   "metadata": {},
   "outputs": [],
   "source": [
    "x = symbols('x')"
   ]
  },
  {
   "cell_type": "code",
   "execution_count": 13,
   "metadata": {},
   "outputs": [
    {
     "data": {
      "image/png": "[encoded data removed]",
      "text/latex": [
       "$\\displaystyle \\begin{cases} i \\sqrt{-1 + \\frac{1}{x^{2}}} & \\text{for}\\: \\frac{1}{\\left|{x^{2}}\\right|} > 1 \\\\\\sqrt{1 - \\frac{1}{x^{2}}} & \\text{otherwise} \\end{cases}$"
      ],
      "text/plain": [
       "⎧       _________              \n",
       "⎪      ╱      1         1      \n",
       "⎪ⅈ⋅   ╱  -1 + ──   for ──── > 1\n",
       "⎪    ╱         2       │ 2│    \n",
       "⎪  ╲╱         x        │x │    \n",
       "⎨                              \n",
       "⎪      ________                \n",
       "⎪     ╱     1                  \n",
       "⎪    ╱  1 - ──      otherwise  \n",
       "⎪   ╱        2                 \n",
       "⎩ ╲╱        x                  "
      ]
     },
     "execution_count": 13,
     "metadata": {},
     "output_type": "execute_result"
    }
   ],
   "source": []
  },
  {
   "cell_type": "code",
   "execution_count": 18,
   "metadata": {},
   "outputs": [
    {
     "data": {
      "image/png": "[encoded data removed]",
      "text/latex": [
       "$\\displaystyle \\int \\frac{1}{4 \\left(9 - x^{2}\\right)^{\\frac{3}{2}}}\\, dx$"
      ],
      "text/plain": [
       "⌠                 \n",
       "⎮       1         \n",
       "⎮ ───────────── dx\n",
       "⎮           3/2   \n",
       "⎮   ⎛     2⎞      \n",
       "⎮ 4⋅⎝9 - x ⎠      \n",
       "⌡                 "
      ]
     },
     "execution_count": 18,
     "metadata": {},
     "output_type": "execute_result"
    }
   ],
   "source": [
    "(x := Integral(1/(4*sqrt(9-x**2)**3)))"
   ]
  },
  {
   "cell_type": "code",
   "execution_count": 19,
   "metadata": {},
   "outputs": [
    {
     "data": {
      "image/png": "[encoded data removed]",
      "text/latex": [
       "$\\displaystyle \\frac{\\begin{cases} - \\frac{i x}{9 \\sqrt{x^{2} - 9}} & \\text{for}\\: \\frac{\\left|{x^{2}}\\right|}{9} > 1 \\\\\\frac{x}{9 \\sqrt{9 - x^{2}}} & \\text{otherwise} \\end{cases}}{4}$"
      ],
      "text/plain": [
       "⎧                   │ 2│    \n",
       "⎪    -ⅈ⋅x           │x │    \n",
       "⎪─────────────  for ──── > 1\n",
       "⎪     ________       9      \n",
       "⎪    ╱  2                   \n",
       "⎪9⋅╲╱  x  - 9               \n",
       "⎨                           \n",
       "⎪      x                    \n",
       "⎪─────────────   otherwise  \n",
       "⎪     ________              \n",
       "⎪    ╱      2               \n",
       "⎪9⋅╲╱  9 - x                \n",
       "⎩                           \n",
       "────────────────────────────\n",
       "             4              "
      ]
     },
     "execution_count": 19,
     "metadata": {},
     "output_type": "execute_result"
    }
   ],
   "source": [
    "x.doit()"
   ]
  },
  {
   "cell_type": "code",
   "execution_count": 22,
   "metadata": {},
   "outputs": [
    {
     "data": {
      "image/png": "[encoded data removed]",
      "text/latex": [
       "$\\displaystyle \\int \\frac{1}{\\left(\\sqrt{- \\left(\\int \\frac{1}{4 \\left(- x^{2} \\sqrt{9 - x^{2}} + 9 \\sqrt{9 - x^{2}}\\right)}\\, dx - 1\\right) \\left(\\int \\frac{1}{4 \\left(- x^{2} \\sqrt{9 - x^{2}} + 9 \\sqrt{9 - x^{2}}\\right)}\\, dx + 1\\right)}\\right) \\left(\\int \\frac{1}{4 \\left(- x^{2} \\sqrt{9 - x^{2}} + 9 \\sqrt{9 - x^{2}}\\right)}\\, dx\\right)^{2}}\\, dx$"
      ],
      "text/plain": [
       "⌠                                                                             \n",
       "⎮                                                                            1\n",
       "⎮ ────────────────────────────────────────────────────────────────────────────\n",
       "⎮         ____________________________________________________________________\n",
       "⎮        ╱  ⎛⌠                                            ⎞ ⎛⌠                \n",
       "⎮       ╱   ⎜⎮                  1                         ⎟ ⎜⎮                \n",
       "⎮      ╱   -⎜⎮ ──────────────────────────────────── dx - 1⎟⋅⎜⎮ ───────────────\n",
       "⎮     ╱     ⎜⎮   ⎛        ________        ________⎞       ⎟ ⎜⎮   ⎛        ____\n",
       "⎮    ╱      ⎜⎮   ⎜   2   ╱      2        ╱      2 ⎟       ⎟ ⎜⎮   ⎜   2   ╱    \n",
       "⎮   ╱       ⎜⎮ 4⋅⎝- x ⋅╲╱  9 - x   + 9⋅╲╱  9 - x  ⎠       ⎟ ⎜⎮ 4⋅⎝- x ⋅╲╱  9 -\n",
       "⎮ ╲╱        ⎝⌡                                            ⎠ ⎝⌡                \n",
       "⌡                                                                             \n",
       "\n",
       "                                                                              \n",
       "                                                                              \n",
       "─────────────────────────────────────────────────────────────────────────── dx\n",
       "______________________________                                            2   \n",
       "                            ⎞  ⎛⌠                                        ⎞    \n",
       "  1                         ⎟  ⎜⎮                  1                     ⎟    \n",
       "───────────────────── dx + 1⎟ ⋅⎜⎮ ──────────────────────────────────── dx⎟    \n",
       "____        ________⎞       ⎟  ⎜⎮   ⎛        ________        ________⎞   ⎟    \n",
       "  2        ╱      2 ⎟       ⎟  ⎜⎮   ⎜   2   ╱      2        ╱      2 ⎟   ⎟    \n",
       " x   + 9⋅╲╱  9 - x  ⎠       ⎟  ⎜⎮ 4⋅⎝- x ⋅╲╱  9 - x   + 9⋅╲╱  9 - x  ⎠   ⎟    \n",
       "                            ⎠  ⎝⌡                                        ⎠    \n",
       "                                                                              "
      ]
     },
     "execution_count": 22,
     "metadata": {},
     "output_type": "execute_result"
    }
   ],
   "source": [
    "integrate(1/(x**2*sqrt(1-x**2)))"
   ]
  },
  {
   "cell_type": "code",
   "execution_count": 3,
   "metadata": {},
   "outputs": [
    {
     "data": {
      "image/png": "[encoded data removed]",
      "text/latex": [
       "$\\displaystyle \\int \\frac{1}{\\left(4 x^{2} + 1\\right)^{2}}\\, dx$"
      ],
      "text/plain": [
       "⌠               \n",
       "⎮      1        \n",
       "⎮ ─────────── dx\n",
       "⎮           2   \n",
       "⎮ ⎛   2    ⎞    \n",
       "⎮ ⎝4⋅x  + 1⎠    \n",
       "⌡               "
      ]
     },
     "execution_count": 3,
     "metadata": {},
     "output_type": "execute_result"
    }
   ],
   "source": [
    "(n := Integral(1/((2*x)**2+1)**2))"
   ]
  },
  {
   "cell_type": "code",
   "execution_count": 4,
   "metadata": {},
   "outputs": [
    {
     "data": {
      "image/png": "[encoded data removed]",
      "text/latex": [
       "$\\displaystyle \\frac{x}{8 x^{2} + 2} + \\frac{\\operatorname{atan}{\\left(2 x \\right)}}{4}$"
      ],
      "text/plain": [
       "   x       atan(2⋅x)\n",
       "──────── + ─────────\n",
       "   2           4    \n",
       "8⋅x  + 2            "
      ]
     },
     "execution_count": 4,
     "metadata": {},
     "output_type": "execute_result"
    }
   ],
   "source": [
    "n.doit()\n"
   ]
  },
  {
   "cell_type": "markdown",
   "metadata": {},
   "source": [
    "$$8\\int \\frac{\\frac{1}{2}\\sec^2(\\vartheta)}{(\\tan^2(\\vartheta) + 1)^2}d\\vartheta$$"
   ]
  },
  {
   "cell_type": "markdown",
   "metadata": {},
   "source": [
    "$$4\\int\\frac{ \\sec^2{\\vartheta}}{(\\sec^2(\\vartheta))^2}d\\vartheta$$"
   ]
  },
  {
   "cell_type": "markdown",
   "metadata": {},
   "source": [
    "$$4\\int \\cos^2(\\vartheta)d\\vartheta$$"
   ]
  },
  {
   "cell_type": "markdown",
   "metadata": {},
   "source": [
    "$$4\\int \\frac{\\cos(2\\vartheta) + 1}{2}d\\vartheta$$"
   ]
  },
  {
   "cell_type": "markdown",
   "metadata": {},
   "source": [
    "$$2\\int 1+ \\cos(2\\vartheta) d\\vartheta$$"
   ]
  },
  {
   "cell_type": "markdown",
   "metadata": {},
   "source": [
    "$$2(\\vartheta + \\sin(2\\vartheta) + C$$"
   ]
  },
  {
   "cell_type": "markdown",
   "metadata": {},
   "source": [
    "$$2\\vartheta + 4\\sin(\\vartheta)\\cos(\\vartheta) + C$$"
   ]
  },
  {
   "cell_type": "code",
   "execution_count": null,
   "metadata": {},
   "outputs": [],
   "source": []
  }
 ],
 "metadata": {
  "kernelspec": {
   "display_name": "Python 3",
   "language": "python",
   "name": "python3"
  },
  "language_info": {
   "codemirror_mode": {
    "name": "ipython",
    "version": 3
   },
   "file_extension": ".py",
   "mimetype": "text/x-python",
   "name": "python",
   "nbconvert_exporter": "python",
   "pygments_lexer": "ipython3",
   "version": "3.8.5"
  }
 },
 "nbformat": 4,
 "nbformat_minor": 4
}
