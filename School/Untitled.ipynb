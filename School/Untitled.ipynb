{
 "cells": [
  {
   "cell_type": "markdown",
   "metadata": {},
   "source": [
    "# Lesson 107\n",
    "### Emmett Hart\n",
    "#### 15.09.2020"
   ]
  },
  {
   "cell_type": "code",
   "execution_count": 3,
   "metadata": {},
   "outputs": [],
   "source": [
    "import math\n",
    "import numpy as np\n",
    "from IPython.display import display,Latex"
   ]
  },
  {
   "cell_type": "markdown",
   "metadata": {},
   "source": [
    "## 7\n",
    "$\\sqrt{2^2+3^2}$ at $\\arctan(\\frac{3}{-2})$"
   ]
  },
  {
   "cell_type": "code",
   "execution_count": 7,
   "metadata": {},
   "outputs": [
    {
     "data": {
      "text/latex": [
       "$3.606$ un at $-0.187\\pi$"
      ],
      "text/plain": [
       "<IPython.core.display.Latex object>"
      ]
     },
     "metadata": {},
     "output_type": "display_data"
    }
   ],
   "source": [
    "r7 = math.sqrt(2**2+3**2)\n",
    "th7 = np.arctan2(-2,3)\n",
    "display(Latex('${0}$ un at ${1}\\\\pi$'.format(round(r7,3),round(th7/math.pi,3))))"
   ]
  },
  {
   "cell_type": "markdown",
   "metadata": {},
   "source": [
    "## 8"
   ]
  },
  {
   "cell_type": "code",
   "execution_count": 33,
   "metadata": {},
   "outputs": [
    {
     "data": {
      "text/latex": [
       "$1.118$ un at $0.352\\pi$ $\\\\$$1.118$ un at $-1.648\\pi$ $\\\\$$-1.118$ un at $-0.648\\pi$ $\\\\$$-1.118$ un at $1.352\\pi$ $\\\\$"
      ],
      "text/plain": [
       "<IPython.core.display.Latex object>"
      ]
     },
     "metadata": {},
     "output_type": "display_data"
    }
   ],
   "source": [
    "r8 = round(math.sqrt(1**2+.5**2),3)\n",
    "th8 = np.arctan2(1,.5)\n",
    "display(Latex(\n",
    "r'${0}$ un at ${1}\\pi$ $\\\\$'\n",
    "r'${2}$ un at ${3}\\pi$ $\\\\$'\n",
    "r'${4}$ un at ${5}\\pi$ $\\\\$'\n",
    "r'${6}$ un at ${7}\\pi$ $\\\\$'.format(\n",
    "r8,round(th8/math.pi,3),\n",
    "r8,round((th8-math.pi*2)/math.pi,3),\n",
    "-r8,round((th8-math.pi)/math.pi,3),\n",
    "-r8,round((th8+math.pi)/math.pi,3)\n",
    ")))"
   ]
  },
  {
   "cell_type": "markdown",
   "metadata": {},
   "source": [
    "## 9\n",
    "$y = 2x^2 \\\\ r\\sin(\\theta) = 2\\left(r\\cos(\\theta)\\right)^2 \\\\\n",
    "r\\sin(\\theta) = 2r^2\\cos(\\theta)^2 \\\\\n",
    "r = \\frac{1}{2}\\tan(\\theta)\\sec(\\theta)$ for r $\\neq$ 0 and for $\\theta = 0\\ \\therefore r = 0$ \n",
    "## 10\n",
    "$\\sqrt{x^2 + y^2} = \\dfrac{y}{\\sqrt{x^2 + y^2}} \\\\\n",
    "x^2 + (y-1)^2 = 1 $\n",
    "## 11\n",
    "Converges to 1"
   ]
  },
  {
   "cell_type": "markdown",
   "metadata": {},
   "source": [
    "## 13 \n",
    "$a_n = \\frac{2}{n^2}"
   ]
  },
  {
   "cell_type": "code",
   "execution_count": null,
   "metadata": {},
   "outputs": [],
   "source": []
  }
 ],
 "metadata": {
  "kernelspec": {
   "display_name": "Python 3",
   "language": "python",
   "name": "python3"
  },
  "language_info": {
   "codemirror_mode": {
    "name": "ipython",
    "version": 3
   },
   "file_extension": ".py",
   "mimetype": "text/x-python",
   "name": "python",
   "nbconvert_exporter": "python",
   "pygments_lexer": "ipython3",
   "version": "3.8.5"
  }
 },
 "nbformat": 4,
 "nbformat_minor": 4
}
