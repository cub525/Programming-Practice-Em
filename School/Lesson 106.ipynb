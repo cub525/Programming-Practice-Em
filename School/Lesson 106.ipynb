{
 "cells": [
  {
   "cell_type": "markdown",
   "metadata": {},
   "source": [
    "# Lesson 106: 1, 2, 20, 21, 22, 23, 24\n",
    "### Emmett Hart\n",
    "#### 15.09.2020"
   ]
  },
  {
   "cell_type": "code",
   "execution_count": 6,
   "metadata": {},
   "outputs": [],
   "source": [
    "import matplotlib.pyplot as plt\n",
    "import math\n",
    "import numpy as np"
   ]
  },
  {
   "cell_type": "markdown",
   "metadata": {},
   "source": [
    "## 1"
   ]
  },
  {
   "cell_type": "code",
   "execution_count": 16,
   "metadata": {},
   "outputs": [],
   "source": [
    "t = np.arange(-5,5,.1)\n",
    "x = 3*t+2\n",
    "y = t**2\n",
    "plt.plot(x,y)\n",
    "plt.legend()\n",
    "plt.axis('equal')\n",
    "plt.grid(True)\n",
    "plt.show()"
   ]
  },
  {
   "cell_type": "markdown",
   "metadata": {},
   "source": [
    "$dy = 2tdt\\\\\n",
    "dx = 3dt\\\\\n",
    "\\dfrac{dy}{dx} = \\dfrac{2t}{3}{\\frac{dt}{dt}} \\\\\n",
    "y = \\left(\\dfrac{x-2}{3}\\right)^2$"
   ]
  },
  {
   "cell_type": "markdown",
   "metadata": {},
   "source": [
    "## 2"
   ]
  },
  {
   "cell_type": "code",
   "execution_count": 14,
   "metadata": {},
   "outputs": [],
   "source": [
    "t = np.arange(0,2,.1)\n",
    "x = t**3\n",
    "y = t**2\n",
    "plt.plot(x,y,label = 'Function y(x)')\n",
    "plt.legend()\n",
    "plt.axis('equal')\n",
    "plt.grid(True)\n",
    "plt.show()"
   ]
  },
  {
   "cell_type": "markdown",
   "metadata": {},
   "source": [
    "$dy = 2tdt \\\\ dx = 3t^2dt \\\\ \\dfrac{dy}{dx} = \\dfrac{2}{3t}\n",
    "\\\\ y = x^{\\frac{2}{3}}$\n",
    "## 20"
   ]
  },
  {
   "cell_type": "code",
   "execution_count": 21,
   "metadata": {},
   "outputs": [
    {
     "name": "stdout",
     "output_type": "stream",
     "text": [
      "0.333\n",
      "-0.222\n",
      "-0.349\n",
      "-0.41\n"
     ]
    }
   ],
   "source": [
    "for i in range(1,5):\n",
    "    a = (3*i**2-4*i)/(2-5*i**2)\n",
    "    print(round(a,3))"
   ]
  },
  {
   "cell_type": "markdown",
   "metadata": {},
   "source": [
    "the shown sequence converges on $-\\frac{3}{5}$"
   ]
  },
  {
   "cell_type": "markdown",
   "metadata": {},
   "source": [
    "## 21\n",
    "$a_n = \\dfrac{n^2}{n+1}$\n",
    "## 22\n",
    "$a_n = \\dfrac{(n-2)^2}{n-1}$  \n",
    "for n = 3,4..."
   ]
  },
  {
   "cell_type": "markdown",
   "metadata": {},
   "source": [
    "## 23\n",
    "converges to 0\n",
    "## 24\n",
    "diverges to $\\infty$"
   ]
  },
  {
   "cell_type": "code",
   "execution_count": null,
   "metadata": {},
   "outputs": [],
   "source": []
  }
 ],
 "metadata": {
  "kernelspec": {
   "display_name": "Python 3",
   "language": "python",
   "name": "python3"
  },
  "language_info": {
   "codemirror_mode": {
    "name": "ipython",
    "version": 3
   },
   "file_extension": ".py",
   "mimetype": "text/x-python",
   "name": "python",
   "nbconvert_exporter": "python",
   "pygments_lexer": "ipython3",
   "version": "3.8.5"
  }
 },
 "nbformat": 4,
 "nbformat_minor": 4
}
